{
 "cells": [
  {
   "cell_type": "code",
   "execution_count": 1,
   "id": "c3a27592",
   "metadata": {},
   "outputs": [
    {
     "ename": "AttributeError",
     "evalue": "'NoneType' object has no attribute 'shape'",
     "output_type": "error",
     "traceback": [
      "\u001b[1;31m---------------------------------------------------------------------------\u001b[0m",
      "\u001b[1;31mAttributeError\u001b[0m                            Traceback (most recent call last)",
      "Input \u001b[1;32mIn [1]\u001b[0m, in \u001b[0;36m<cell line: 51>\u001b[1;34m()\u001b[0m\n\u001b[0;32m     51\u001b[0m \u001b[38;5;28;01mwhile\u001b[39;00m(cap\u001b[38;5;241m.\u001b[39misOpened()):\n\u001b[0;32m     52\u001b[0m     ret,frame\u001b[38;5;241m=\u001b[39mcap\u001b[38;5;241m.\u001b[39mread()     \u001b[38;5;66;03m#cv2.VideoCapture.read() function returns two value, one is boolean that tells whether the reading happended successfully or not, oteher is a frame of video\u001b[39;00m\n\u001b[1;32m---> 53\u001b[0m     frame\u001b[38;5;241m=\u001b[39m\u001b[43mprocess\u001b[49m\u001b[43m(\u001b[49m\u001b[43mframe\u001b[49m\u001b[43m)\u001b[49m\n\u001b[0;32m     54\u001b[0m     cv\u001b[38;5;241m.\u001b[39mimshow(\u001b[38;5;124m\"\u001b[39m\u001b[38;5;124mVideo with lines\u001b[39m\u001b[38;5;124m\"\u001b[39m,frame)\n\u001b[0;32m     55\u001b[0m     \u001b[38;5;28;01mif\u001b[39;00m cv\u001b[38;5;241m.\u001b[39mwaitKey(\u001b[38;5;241m1\u001b[39m) \u001b[38;5;241m&\u001b[39m \u001b[38;5;241m0xFF\u001b[39m\u001b[38;5;241m==\u001b[39m\u001b[38;5;28mord\u001b[39m(\u001b[38;5;124m'\u001b[39m\u001b[38;5;124mq\u001b[39m\u001b[38;5;124m'\u001b[39m):\n",
      "Input \u001b[1;32mIn [1]\u001b[0m, in \u001b[0;36mprocess\u001b[1;34m(image)\u001b[0m\n\u001b[0;32m     21\u001b[0m \u001b[38;5;28;01mdef\u001b[39;00m \u001b[38;5;21mprocess\u001b[39m(image):                      \u001b[38;5;66;03m#method to detect road lane line in the image\u001b[39;00m\n\u001b[1;32m---> 22\u001b[0m     height\u001b[38;5;241m=\u001b[39m\u001b[43mimage\u001b[49m\u001b[38;5;241;43m.\u001b[39;49m\u001b[43mshape\u001b[49m[\u001b[38;5;241m0\u001b[39m]\n\u001b[0;32m     23\u001b[0m     width\u001b[38;5;241m=\u001b[39mimage\u001b[38;5;241m.\u001b[39mshape[\u001b[38;5;241m1\u001b[39m]\n\u001b[0;32m     24\u001b[0m     region_of_interest_vertices\u001b[38;5;241m=\u001b[39m[                      \u001b[38;5;66;03m#finding the vertices of region_of_interest\u001b[39;00m\n\u001b[0;32m     25\u001b[0m      \n\u001b[0;32m     26\u001b[0m      (\u001b[38;5;241m0\u001b[39m,height),\n\u001b[0;32m     27\u001b[0m      (width\u001b[38;5;241m/\u001b[39m\u001b[38;5;241m2\u001b[39m,height\u001b[38;5;241m/\u001b[39m\u001b[38;5;241m2\u001b[39m),     \n\u001b[0;32m     28\u001b[0m      (width,height)  \n\u001b[0;32m     29\u001b[0m     ]\n",
      "\u001b[1;31mAttributeError\u001b[0m: 'NoneType' object has no attribute 'shape'"
     ]
    }
   ],
   "source": [
    "import cv2 as cv\n",
    "import numpy as np\n",
    "import matplotlib.pyplot as plt\n",
    "\n",
    "def region_of_interest(img,vertices):                      #detectes the region of interest from the canny image\n",
    "    mask=np.zeros_like(img)                               #creating a black image of the same size\n",
    "    match_mask_color=255                                #setting mask colour to white\n",
    "    cv.fillPoly(mask,vertices,match_mask_color)           # filling black image with white colour of given vertices\n",
    "    masked_image=cv.bitwise_and(img,mask)                # applying bitwise and to find the region of interest\n",
    "    return masked_image\n",
    "\n",
    "def draw_the_lines(img,lines):                      #addding lines to image\n",
    "    img=np.copy(img)                                                   #copying the image to another variable\n",
    "    blank_img=np.zeros((img.shape[0],img.shape[1],3),dtype=np.uint8)    \n",
    "    for line in lines:                                              \n",
    "        for x1,y1,x2,y2 in line:\n",
    "            cv.line(blank_img,(x1,y1),(x2,y2),(0,255,0),thickness=3)       #creating lines to a plane black image\n",
    "    img=cv.addWeighted(img,0.8,blank_img,1,0.0)                         #merging image with lines with original image\n",
    "    return img\n",
    "\n",
    "def process(image):                      #method to detect road lane line in the image\n",
    "    height=image.shape[0]\n",
    "    width=image.shape[1]\n",
    "    region_of_interest_vertices=[                      #finding the vertices of region_of_interest\n",
    "     \n",
    "     (0,height),\n",
    "     (width/2,height/2),     \n",
    "     (width,height)  \n",
    "    ]\n",
    "    real=np.copy(image)\n",
    "\n",
    "    gray_image=cv.cvtColor(image,cv.COLOR_RGB2GRAY)     #converts from one colorscale to other\n",
    "    canny_image=cv.Canny(gray_image,100,120)             #edge detectionn\n",
    "    \n",
    "    cropped_image=region_of_interest(canny_image,\n",
    "                    np.array([region_of_interest_vertices],np.int32),)\n",
    "    \n",
    "     \n",
    "    lines=cv.HoughLinesP(cropped_image,          #detecting lines from region of interest\n",
    "                   rho=2,\n",
    "                   theta=np.pi/60,\n",
    "                   threshold=50,\n",
    "                   lines=np.array([]),\n",
    "                   minLineLength=40,\n",
    "                   maxLineGap=100)\n",
    "    \n",
    "    image_with_lines=draw_the_lines(real,lines)       #addding lines to image\n",
    "    return image_with_lines                            \n",
    "    \n",
    "cap=cv.VideoCapture(\"E:\\IT Project\\WhatsApp Video 2022-07-15 at 9.40.22 AM.mp4\")     #reading the video\n",
    "while(cap.isOpened()):\n",
    "    ret,frame=cap.read()     #cv2.VideoCapture.read() function returns two value, one is boolean that tells whether the reading happended successfully or not, oteher is a frame of video\n",
    "    frame=process(frame)\n",
    "    cv.imshow(\"Video with lines\",frame)\n",
    "    if cv.waitKey(1) & 0xFF==ord('q'):\n",
    "        break\n",
    "        \n",
    "cap.release()\n",
    "cv.destroyAllWindows()"
   ]
  },
  {
   "cell_type": "code",
   "execution_count": null,
   "id": "e04f956d",
   "metadata": {},
   "outputs": [],
   "source": [
    "#\"E:\\IT Project\\WhatsApp Video 2022-07-15 at 9.40.23 AM.mp4\"\n",
    "#\"E:\\IT Project\\WhatsApp Video 2022-07-15 at 9.40.22 AM.mp4\""
   ]
  },
  {
   "cell_type": "code",
   "execution_count": null,
   "id": "8d270eed",
   "metadata": {},
   "outputs": [],
   "source": []
  },
  {
   "cell_type": "code",
   "execution_count": null,
   "id": "9c96dc01",
   "metadata": {},
   "outputs": [],
   "source": []
  },
  {
   "cell_type": "code",
   "execution_count": null,
   "id": "1fd0b30f",
   "metadata": {},
   "outputs": [],
   "source": []
  },
  {
   "cell_type": "code",
   "execution_count": null,
   "id": "4a38c534",
   "metadata": {},
   "outputs": [],
   "source": []
  },
  {
   "cell_type": "code",
   "execution_count": null,
   "id": "6ac78264",
   "metadata": {},
   "outputs": [],
   "source": []
  },
  {
   "cell_type": "code",
   "execution_count": null,
   "id": "7abf8c81",
   "metadata": {},
   "outputs": [],
   "source": []
  }
 ],
 "metadata": {
  "kernelspec": {
   "display_name": "Python 3 (ipykernel)",
   "language": "python",
   "name": "python3"
  },
  "language_info": {
   "codemirror_mode": {
    "name": "ipython",
    "version": 3
   },
   "file_extension": ".py",
   "mimetype": "text/x-python",
   "name": "python",
   "nbconvert_exporter": "python",
   "pygments_lexer": "ipython3",
   "version": "3.9.12"
  }
 },
 "nbformat": 4,
 "nbformat_minor": 5
}
